{
 "cells": [
  {
   "cell_type": "code",
   "execution_count": null,
   "metadata": {},
   "outputs": [],
   "source": [
    "import nltk\n",
    "from collections import Counter\n",
    "from nltk.collocations import *"
   ]
  },
  {
   "cell_type": "code",
   "execution_count": 7,
   "metadata": {},
   "outputs": [],
   "source": [
    "text1=[\"I am clever because I am learning\",\n",
    "      \"I want to eat English food\",\n",
    "      \"I want to eat Chinese food\",\n",
    "      \"I want to go for a walk\"\n",
    "     ]\n"
   ]
  },
  {
   "cell_type": "code",
   "execution_count": null,
   "metadata": {},
   "outputs": [],
   "source": [
    "def calculate_specific_probability(text, w1, w2):\n",
    "    text = \" \".join(text)\n",
    "    tokens = nltk.word_tokenize(text)\n",
    "    bigrams = nltk.bigrams(tokens)\n",
    "\n",
    "    unigram_counts = Counter(tokens)\n",
    "    bigram_counts = Counter(bigrams)\n",
    "\n",
    "    bigram = (w1, w2)\n",
    "    if unigram_counts[w1] > 0:\n",
    "        return bigram_counts[bigram] / unigram_counts[w1]\n",
    "    else:\n",
    "        return 0"
   ]
  },
  {
   "cell_type": "code",
   "execution_count": 9,
   "metadata": {},
   "outputs": [],
   "source": [
    "def calculate_all_probabilities(text):\n",
    "    text = \" \".join(text) \n",
    "    tokens = nltk.word_tokenize(text)\n",
    "    bigrams = nltk.bigrams(tokens)\n",
    "\n",
    "    unigram_counts = Counter(tokens)\n",
    "    bigram_counts = Counter(bigrams)\n",
    "\n",
    "    for bigram in bigram_counts:\n",
    "        w1, w2 = bigram\n",
    "        if unigram_counts[w1] > 0:\n",
    "            prob = bigram_counts[bigram] / unigram_counts[w1]\n",
    "        else:\n",
    "            prob = 0\n",
    "        print(f\"P('{w2}' | '{w1}') = {prob}\")"
   ]
  },
  {
   "cell_type": "code",
   "execution_count": null,
   "metadata": {},
   "outputs": [
    {
     "name": "stdout",
     "output_type": "stream",
     "text": [
      "P('want' | 'I') = 0.6\n"
     ]
    }
   ],
   "source": [
    "w1 = \"I\"\n",
    "w2 = \"want\"\n",
    "prob = calculate_specific_probability(text1, w1, w2)\n",
    "print(f\"P('{w2}' | '{w1}') = {prob}\")"
   ]
  },
  {
   "cell_type": "code",
   "execution_count": 12,
   "metadata": {},
   "outputs": [
    {
     "name": "stdout",
     "output_type": "stream",
     "text": [
      "P('am' | 'I') = 0.4\n",
      "P('clever' | 'am') = 0.5\n",
      "P('because' | 'clever') = 1.0\n",
      "P('I' | 'because') = 1.0\n",
      "P('learning' | 'am') = 0.5\n",
      "P('I' | 'learning') = 1.0\n",
      "P('want' | 'I') = 0.6\n",
      "P('to' | 'want') = 1.0\n",
      "P('eat' | 'to') = 0.6666666666666666\n",
      "P('English' | 'eat') = 0.5\n",
      "P('food' | 'English') = 1.0\n",
      "P('I' | 'food') = 1.0\n",
      "P('Chinese' | 'eat') = 0.5\n",
      "P('food' | 'Chinese') = 1.0\n",
      "P('go' | 'to') = 0.3333333333333333\n",
      "P('for' | 'go') = 1.0\n",
      "P('a' | 'for') = 1.0\n",
      "P('walk' | 'a') = 1.0\n"
     ]
    }
   ],
   "source": [
    "# Calculate probabilities for all bigrams\n",
    "calculate_all_probabilities(text1)"
   ]
  }
 ],
 "metadata": {
  "kernelspec": {
   "display_name": "Python 3",
   "language": "python",
   "name": "python3"
  },
  "language_info": {
   "codemirror_mode": {
    "name": "ipython",
    "version": 3
   },
   "file_extension": ".py",
   "mimetype": "text/x-python",
   "name": "python",
   "nbconvert_exporter": "python",
   "pygments_lexer": "ipython3",
   "version": "3.13.0"
  }
 },
 "nbformat": 4,
 "nbformat_minor": 2
}
